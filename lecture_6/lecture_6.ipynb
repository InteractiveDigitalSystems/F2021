{
 "cells": [
  {
   "cell_type": "markdown",
   "id": "twelve-arena",
   "metadata": {
    "slideshow": {
     "slide_type": "slide"
    }
   },
   "source": [
    "# Lecture 6 - Advanced Python topics"
   ]
  },
  {
   "cell_type": "markdown",
   "id": "confidential-visiting",
   "metadata": {
    "slideshow": {
     "slide_type": "subslide"
    }
   },
   "source": [
    "## Today's Agenda\n",
    "* Python interpreters\n",
    "* Object-oriented Programming in Python\n",
    "* Try-catch\n",
    "* List comprehensions\n",
    "* Decorators\n",
    "* Pickle"
   ]
  },
  {
   "cell_type": "markdown",
   "id": "positive-death",
   "metadata": {
    "slideshow": {
     "slide_type": "subslide"
    }
   },
   "source": [
    "## Learning goals for today\n",
    "* More familiarity with advanced Python concepts\n",
    "* Tricks and tools for writing better software in Python\n",
    "* Allow yourself "
   ]
  },
  {
   "cell_type": "markdown",
   "id": "suitable-agriculture",
   "metadata": {
    "slideshow": {
     "slide_type": "slide"
    }
   },
   "source": [
    "## Decorators\n",
    "_Decorators_ are a feature of Python which allows us to alter the functionality of existing code. Decorators allow us to execute code before and after functions the _decorate_.\n",
    "\n",
    "Lots of great examples [here](https://gist.github.com/Zearin/2f40b7b9cfc51132851a)."
   ]
  },
  {
   "cell_type": "markdown",
   "id": "exempt-journalist",
   "metadata": {
    "slideshow": {
     "slide_type": "notes"
    }
   },
   "source": [
    "Before going into decorators, we will have understand that functions in Python are objects."
   ]
  },
  {
   "cell_type": "markdown",
   "id": "fluid-albany",
   "metadata": {
    "slideshow": {
     "slide_type": "subslide"
    }
   },
   "source": [
    "In Python all functions are objects meaning that they can be:\n",
    "* Passed as arguments\n",
    "* Assigned to variables\n",
    "* Stored as elements in data structures"
   ]
  },
  {
   "cell_type": "markdown",
   "id": "informed-fluid",
   "metadata": {
    "slideshow": {
     "slide_type": "subslide"
    }
   },
   "source": [
    "### Functions as objects\n",
    "_Following examples are from [Zearin's Python decorator guide](https://gist.github.com/Zearin/2f40b7b9cfc51132851a)_"
   ]
  },
  {
   "cell_type": "code",
   "execution_count": null,
   "id": "positive-plaintiff",
   "metadata": {
    "slideshow": {
     "slide_type": "subslide"
    }
   },
   "outputs": [],
   "source": [
    "def shout(word='yes'):\n",
    "    return word.capitalize() + '!'\n",
    "\n",
    "print(shout('hello'))"
   ]
  },
  {
   "cell_type": "markdown",
   "id": "blessed-table",
   "metadata": {
    "slideshow": {
     "slide_type": "notes"
    }
   },
   "source": [
    "Note the optional input argument! This function simply capitalises input and adds ```!```."
   ]
  },
  {
   "cell_type": "code",
   "execution_count": null,
   "id": "capital-charleston",
   "metadata": {
    "slideshow": {
     "slide_type": "fragment"
    }
   },
   "outputs": [],
   "source": [
    "scream = shout\n",
    "print(scream('hello'))"
   ]
  },
  {
   "cell_type": "markdown",
   "id": "mental-palestinian",
   "metadata": {
    "slideshow": {
     "slide_type": "subslide"
    }
   },
   "source": [
    "#### We can also define functions inside functions"
   ]
  },
  {
   "cell_type": "code",
   "execution_count": null,
   "id": "neither-diagram",
   "metadata": {},
   "outputs": [],
   "source": [
    "def talk():\n",
    "    # You can define a function on the fly in `talk` ...\n",
    "    def whisper(word='yes'):\n",
    "        return word.lower() + '...'\n",
    "    print(whisper())\n",
    "\n",
    "# You call `talk`, that defines `whisper` EVERY TIME you call it, then\n",
    "# `whisper` is called in `talk`. \n",
    "talk()"
   ]
  },
  {
   "cell_type": "markdown",
   "id": "endless-peoples",
   "metadata": {
    "slideshow": {
     "slide_type": "notes"
    }
   },
   "source": [
    "```whisper()```now only exists inside ```talk()``` and cannot be called outside that function"
   ]
  },
  {
   "cell_type": "code",
   "execution_count": null,
   "id": "dried-judgment",
   "metadata": {
    "slideshow": {
     "slide_type": "subslide"
    }
   },
   "outputs": [],
   "source": [
    "whisper() # will throw an error"
   ]
  },
  {
   "cell_type": "markdown",
   "id": "accessible-certificate",
   "metadata": {
    "slideshow": {
     "slide_type": "subslide"
    }
   },
   "source": [
    "### Functions can return functions"
   ]
  },
  {
   "cell_type": "markdown",
   "id": "revolutionary-stations",
   "metadata": {
    "slideshow": {
     "slide_type": "subslide"
    }
   },
   "source": [
    "### Handcrafted decorators"
   ]
  },
  {
   "cell_type": "markdown",
   "id": "interested-process",
   "metadata": {
    "slideshow": {
     "slide_type": "subslide"
    }
   },
   "source": [
    "### Using the decorator syntax"
   ]
  },
  {
   "cell_type": "code",
   "execution_count": null,
   "id": "involved-breakdown",
   "metadata": {
    "slideshow": {
     "slide_type": "subslide"
    }
   },
   "outputs": [],
   "source": [
    "def bread(func):\n",
    "    def wrapper():\n",
    "        print(\"</''''''\\>\")\n",
    "        func()\n",
    "        print(\"<\\______/>\")\n",
    "    return wrapper\n",
    "\n",
    "def ingredients(func):\n",
    "    def wrapper():\n",
    "        print('#tomatoes#')\n",
    "        func()\n",
    "        print('~salad~')\n",
    "    return wrapper\n",
    "\n",
    "def sandwich(food='--ham--'):\n",
    "    print(food)\n",
    "    \n",
    "#outputs: --ham--\n",
    "sandwich = bread(ingredients(sandwich))\n",
    "sandwich()"
   ]
  },
  {
   "cell_type": "code",
   "execution_count": null,
   "id": "immune-broadway",
   "metadata": {
    "slideshow": {
     "slide_type": "subslide"
    }
   },
   "outputs": [],
   "source": [
    "# Python decorator syntax\n",
    "@bread\n",
    "@ingredients\n",
    "def sandwich(food='--ham--'):\n",
    "    print(food)\n",
    "sandwich()"
   ]
  },
  {
   "cell_type": "markdown",
   "id": "manufactured-paste",
   "metadata": {
    "slideshow": {
     "slide_type": "notes"
    }
   },
   "source": [
    "This could allow us to e.g. pack something inside ```<i>```(italics) tags. Could also be used for user authentication or opening and closing a port with some functionality in between."
   ]
  },
  {
   "cell_type": "markdown",
   "id": "skilled-pollution",
   "metadata": {
    "slideshow": {
     "slide_type": "subslide"
    }
   },
   "source": [
    "### Decorators summary!\n",
    "* Functions are objects and can be passed to other functions, set as variables and held in various data structures..\n",
    "* A decorator takes a functions, adds functionality and [returns it.](https://www.programiz.com/python-programming/decorator)\n",
    "* Decorators act as wrappers, _decorating_ the function without altering it."
   ]
  },
  {
   "cell_type": "code",
   "execution_count": null,
   "id": "certain-responsibility",
   "metadata": {},
   "outputs": [],
   "source": []
  }
 ],
 "metadata": {
  "celltoolbar": "Slideshow",
  "kernelspec": {
   "display_name": "Python 3",
   "language": "python",
   "name": "python3"
  },
  "language_info": {
   "codemirror_mode": {
    "name": "ipython",
    "version": 3
   },
   "file_extension": ".py",
   "mimetype": "text/x-python",
   "name": "python",
   "nbconvert_exporter": "python",
   "pygments_lexer": "ipython3",
   "version": "3.9.1"
  }
 },
 "nbformat": 4,
 "nbformat_minor": 5
}
