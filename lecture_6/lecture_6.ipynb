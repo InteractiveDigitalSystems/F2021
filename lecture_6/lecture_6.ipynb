{
 "cells": [
  {
   "cell_type": "markdown",
   "id": "signed-lesson",
   "metadata": {
    "slideshow": {
     "slide_type": "slide"
    }
   },
   "source": [
    "# Lecture 6 - Advanced Python topics"
   ]
  },
  {
   "cell_type": "markdown",
   "id": "retired-valuation",
   "metadata": {
    "slideshow": {
     "slide_type": "subslide"
    }
   },
   "source": [
    "## Today's Agenda\n",
    "* Python interpreters\n",
    "* Object-oriented Programming in Python\n",
    "* Try-catch\n",
    "* List comprehensions\n",
    "* Decorators\n",
    "* Pickle"
   ]
  },
  {
   "cell_type": "markdown",
   "id": "accessible-baseball",
   "metadata": {
    "slideshow": {
     "slide_type": "subslide"
    }
   },
   "source": [
    "## Learning goals for today\n",
    "* More familiarity with advanced Python concepts\n",
    "* Tricks and tools for writing better software in Python\n",
    "* Allow yourself to understand existing Python code better"
   ]
  },
  {
   "cell_type": "markdown",
   "id": "wicked-anatomy",
   "metadata": {
    "slideshow": {
     "slide_type": "subslide"
    }
   },
   "source": [
    "## Python interpreters\n",
    "* Virtual environments\n",
    "* What's the deal with Python2 and Python3?\n",
    "* Code blocks in VS Code and Jupyter notebook"
   ]
  },
  {
   "cell_type": "markdown",
   "id": "dynamic-values",
   "metadata": {
    "slideshow": {
     "slide_type": "notes"
    }
   },
   "source": [
    "Show [2to3](https://docs.python.org/3/library/2to3.html)"
   ]
  },
  {
   "cell_type": "markdown",
   "id": "worth-flood",
   "metadata": {
    "slideshow": {
     "slide_type": "slide"
    }
   },
   "source": [
    "## Decorators\n",
    "_Decorators_ are a feature of Python which allows us to alter the functionality of existing code. Decorators allow us to execute code before and after functions the _decorate_.\n",
    "\n",
    "Lots of great examples [here](https://gist.github.com/Zearin/2f40b7b9cfc51132851a)."
   ]
  },
  {
   "cell_type": "markdown",
   "id": "hollow-headset",
   "metadata": {
    "slideshow": {
     "slide_type": "notes"
    }
   },
   "source": [
    "Before going into decorators, we will have understand that functions in Python are objects."
   ]
  },
  {
   "cell_type": "markdown",
   "id": "premier-constant",
   "metadata": {
    "slideshow": {
     "slide_type": "subslide"
    }
   },
   "source": [
    "In Python all functions are objects meaning that they can be:\n",
    "* Passed as arguments\n",
    "* Assigned to variables\n",
    "* Stored as elements in data structures"
   ]
  },
  {
   "cell_type": "markdown",
   "id": "japanese-pakistan",
   "metadata": {
    "slideshow": {
     "slide_type": "subslide"
    }
   },
   "source": [
    "### Functions as objects\n",
    "_Following examples are from [Zearin's Python decorator guide](https://gist.github.com/Zearin/2f40b7b9cfc51132851a)_"
   ]
  },
  {
   "cell_type": "code",
   "execution_count": 45,
   "id": "conceptual-alarm",
   "metadata": {
    "slideshow": {
     "slide_type": "subslide"
    }
   },
   "outputs": [
    {
     "name": "stdout",
     "output_type": "stream",
     "text": [
      "Hello!\n"
     ]
    }
   ],
   "source": [
    "def shout(word='yes'):\n",
    "    return word.capitalize() + '!'\n",
    "\n",
    "print(shout('hello'))"
   ]
  },
  {
   "cell_type": "markdown",
   "id": "southwest-worthy",
   "metadata": {
    "slideshow": {
     "slide_type": "notes"
    }
   },
   "source": [
    "Note the optional input argument! This function simply capitalises input and adds ```!```."
   ]
  },
  {
   "cell_type": "code",
   "execution_count": 46,
   "id": "existing-above",
   "metadata": {
    "slideshow": {
     "slide_type": "fragment"
    }
   },
   "outputs": [
    {
     "name": "stdout",
     "output_type": "stream",
     "text": [
      "Hello!\n"
     ]
    }
   ],
   "source": [
    "scream = shout\n",
    "print(scream('hello'))"
   ]
  },
  {
   "cell_type": "markdown",
   "id": "organized-consent",
   "metadata": {
    "slideshow": {
     "slide_type": "subslide"
    }
   },
   "source": [
    "#### We can also define functions inside functions"
   ]
  },
  {
   "cell_type": "code",
   "execution_count": 48,
   "id": "republican-drinking",
   "metadata": {},
   "outputs": [
    {
     "name": "stdout",
     "output_type": "stream",
     "text": [
      "yes...\n"
     ]
    }
   ],
   "source": [
    "def talk():\n",
    "    # You can define a function on the fly in `talk` ...\n",
    "    def whisper(word='yes'):\n",
    "        return word.lower() + '...'\n",
    "    print(whisper())\n",
    "\n",
    "# You call `talk`, that defines `whisper` EVERY TIME you call it, then\n",
    "# `whisper` is called in `talk`. \n",
    "talk()"
   ]
  },
  {
   "cell_type": "markdown",
   "id": "unauthorized-mapping",
   "metadata": {
    "slideshow": {
     "slide_type": "notes"
    }
   },
   "source": [
    "```whisper()```now only exists inside ```talk()``` and cannot be called outside that function"
   ]
  },
  {
   "cell_type": "code",
   "execution_count": 49,
   "id": "careful-computer",
   "metadata": {
    "slideshow": {
     "slide_type": "fragment"
    }
   },
   "outputs": [
    {
     "ename": "TypeError",
     "evalue": "get_whisper() missing 1 required positional argument: 'word'",
     "output_type": "error",
     "traceback": [
      "\u001b[0;31m---------------------------------------------------------------------------\u001b[0m",
      "\u001b[0;31mTypeError\u001b[0m                                 Traceback (most recent call last)",
      "\u001b[0;32m<ipython-input-49-7f51518ef4f9>\u001b[0m in \u001b[0;36m<module>\u001b[0;34m\u001b[0m\n\u001b[0;32m----> 1\u001b[0;31m \u001b[0mwhisper\u001b[0m\u001b[0;34m(\u001b[0m\u001b[0;34m)\u001b[0m \u001b[0;31m# will throw an error\u001b[0m\u001b[0;34m\u001b[0m\u001b[0;34m\u001b[0m\u001b[0m\n\u001b[0m",
      "\u001b[0;31mTypeError\u001b[0m: get_whisper() missing 1 required positional argument: 'word'"
     ]
    }
   ],
   "source": [
    "whisper() # will throw an error"
   ]
  },
  {
   "cell_type": "markdown",
   "id": "front-yield",
   "metadata": {
    "slideshow": {
     "slide_type": "subslide"
    }
   },
   "source": [
    "### Functions can return functions"
   ]
  },
  {
   "cell_type": "code",
   "execution_count": 27,
   "id": "physical-acoustic",
   "metadata": {},
   "outputs": [
    {
     "name": "stdout",
     "output_type": "stream",
     "text": [
      "<function getTalk.<locals>.whisper at 0x1127303a0>\n",
      "hello...\n"
     ]
    }
   ],
   "source": [
    "def getTalk(kind='shout'):\n",
    "    # We define functions on the fly\n",
    "    def shout(word='yes'):\n",
    "        return word.capitalize() + '!'\n",
    "\n",
    "    def whisper(word='yes'):\n",
    "        return word.lower() + '...'\n",
    "\n",
    "    # Then we return one of them\n",
    "    if kind == 'shout':\n",
    "        # We don’t use '()'. We are not calling the function;\n",
    "        # instead, we’re returning the function object\n",
    "        return shout  \n",
    "    else:\n",
    "        return whisper\n",
    "    \n",
    "talk = getTalk('whisper')\n",
    "print(talk)\n",
    "print(talk('hello'))"
   ]
  },
  {
   "cell_type": "markdown",
   "id": "romance-posting",
   "metadata": {
    "slideshow": {
     "slide_type": "subslide"
    }
   },
   "source": [
    "### Handcrafted decorators"
   ]
  },
  {
   "cell_type": "code",
   "execution_count": 51,
   "id": "partial-shore",
   "metadata": {},
   "outputs": [
    {
     "name": "stdout",
     "output_type": "stream",
     "text": [
      "I am a stand alone function, don’t you dare modify me\n",
      "Before the function runs\n",
      "I am a stand alone function, don’t you dare modify me\n",
      "After the function runs\n"
     ]
    }
   ],
   "source": [
    "# A decorator is a function that expects ANOTHER function as parameter\n",
    "def my_shiny_new_decorator(a_function_to_decorate):\n",
    "    def the_wrapper_around_the_original_function():\n",
    "        print ('Before the function runs')\n",
    "\n",
    "        a_function_to_decorate()\n",
    "\n",
    "        print ('After the function runs')\n",
    "\n",
    "    # Return function\n",
    "    return the_wrapper_around_the_original_function\n",
    "\n",
    "def a_stand_alone_function():\n",
    "    print ('I am a stand alone function, don’t you dare modify me')\n",
    "\n",
    "a_stand_alone_function() \n",
    "\n",
    "a_stand_alone_function_decorated = my_shiny_new_decorator(a_stand_alone_function)\n",
    "a_stand_alone_function_decorated()"
   ]
  },
  {
   "cell_type": "markdown",
   "id": "polyphonic-mailman",
   "metadata": {
    "slideshow": {
     "slide_type": "notes"
    }
   },
   "source": [
    "* A decorator is a function that expects ANOTHER function as parameter\n",
    "* Inside, the decorator defines a function on the fly: the wrapper. This function is going to be wrapped around the original function so it can execute code before and after it.\n",
    "* The wrapper function is return"
   ]
  },
  {
   "cell_type": "markdown",
   "id": "eight-youth",
   "metadata": {
    "slideshow": {
     "slide_type": "subslide"
    }
   },
   "source": [
    "### Using the decorator syntax"
   ]
  },
  {
   "cell_type": "code",
   "execution_count": 42,
   "id": "aware-confirmation",
   "metadata": {},
   "outputs": [
    {
     "name": "stdout",
     "output_type": "stream",
     "text": [
      "Before the function runs\n",
      " -  Decorated function! -\n",
      "After the function runs\n"
     ]
    }
   ],
   "source": [
    "@my_shiny_new_decorator\n",
    "def another_stand_alone_function():\n",
    "    print(' -  Decorated function! -')\n",
    "\n",
    "another_stand_alone_function()  "
   ]
  },
  {
   "cell_type": "markdown",
   "id": "herbal-output",
   "metadata": {
    "slideshow": {
     "slide_type": "fragment"
    }
   },
   "source": [
    "This is shortcut of:"
   ]
  },
  {
   "cell_type": "code",
   "execution_count": 44,
   "id": "vietnamese-kernel",
   "metadata": {},
   "outputs": [
    {
     "name": "stdout",
     "output_type": "stream",
     "text": [
      "Before the function runs\n",
      " -  Decorated function! -\n",
      "After the function runs\n"
     ]
    }
   ],
   "source": [
    "def another_stand_alone_function():\n",
    "    print(' -  Decorated function! -')\n",
    "another_stand_alone_function = my_shiny_new_decorator(another_stand_alone_function)\n",
    "another_stand_alone_function()"
   ]
  },
  {
   "cell_type": "markdown",
   "id": "domestic-submission",
   "metadata": {
    "slideshow": {
     "slide_type": "subslide"
    }
   },
   "source": [
    "### Using multiple decorators\n",
    "We can use multiple decorats after one another"
   ]
  },
  {
   "cell_type": "code",
   "execution_count": 52,
   "id": "adequate-homeless",
   "metadata": {
    "slideshow": {
     "slide_type": "subslide"
    }
   },
   "outputs": [
    {
     "name": "stdout",
     "output_type": "stream",
     "text": [
      "</''''''\\>\n",
      "#tomatoes#\n",
      "--ham--\n",
      "~salad~\n",
      "<\\______/>\n"
     ]
    }
   ],
   "source": [
    "def bread(func):\n",
    "    def wrapper():\n",
    "        print(\"</''''''\\>\")\n",
    "        func()\n",
    "        print(\"<\\______/>\")\n",
    "    return wrapper\n",
    "\n",
    "def ingredients(func):\n",
    "    def wrapper():\n",
    "        print('#tomatoes#')\n",
    "        func()\n",
    "        print('~salad~')\n",
    "    return wrapper\n",
    "\n",
    "def sandwich(food='--ham--'):\n",
    "    print(food)\n",
    "    \n",
    "#outputs: --ham--\n",
    "sandwich = bread(ingredients(sandwich))\n",
    "sandwich()"
   ]
  },
  {
   "cell_type": "code",
   "execution_count": null,
   "id": "encouraging-correction",
   "metadata": {
    "slideshow": {
     "slide_type": "subslide"
    }
   },
   "outputs": [],
   "source": [
    "# Python decorator syntax\n",
    "@bread\n",
    "@ingredients\n",
    "def sandwich(food='--ham--'):\n",
    "    print(food)\n",
    "sandwich()"
   ]
  },
  {
   "cell_type": "markdown",
   "id": "ethical-pharmacology",
   "metadata": {
    "slideshow": {
     "slide_type": "notes"
    }
   },
   "source": [
    "This could allow us to e.g. pack something inside ```<i>```(italics) tags. Could also be used for user authentication or opening and closing a port with some functionality in between."
   ]
  },
  {
   "cell_type": "markdown",
   "id": "temporal-electron",
   "metadata": {
    "slideshow": {
     "slide_type": "subslide"
    }
   },
   "source": [
    "### Decorators summary!\n",
    "* Functions are objects and can be passed to other functions, set as variables and held in various data structures..\n",
    "* A decorator takes a functions, adds functionality and [returns it.](https://www.programiz.com/python-programming/decorator)\n",
    "* Decorators act as wrappers, _decorating_ the function without altering it."
   ]
  },
  {
   "cell_type": "markdown",
   "id": "received-lindsay",
   "metadata": {
    "slideshow": {
     "slide_type": "subslide"
    }
   },
   "source": [
    "### Exercise!\n",
    "Write a decorator that times how long it takes to execute a function. Use the following code for time start and stop:"
   ]
  },
  {
   "cell_type": "code",
   "execution_count": 11,
   "id": "exotic-thunder",
   "metadata": {},
   "outputs": [
    {
     "name": "stdout",
     "output_type": "stream",
     "text": [
      "Time spent 2.193450927734375e-05\n"
     ]
    }
   ],
   "source": [
    "import time\n",
    "time_start = time.time() # returns seconds since Jan 1. 1970\n",
    "# input argument\n",
    "time_end = time.time()\n",
    "print(f'Time spent {time_end - time_start}')"
   ]
  }
 ],
 "metadata": {
  "celltoolbar": "Slideshow",
  "kernelspec": {
   "display_name": "Python 3",
   "language": "python",
   "name": "python3"
  },
  "language_info": {
   "codemirror_mode": {
    "name": "ipython",
    "version": 3
   },
   "file_extension": ".py",
   "mimetype": "text/x-python",
   "name": "python",
   "nbconvert_exporter": "python",
   "pygments_lexer": "ipython3",
   "version": "3.9.1"
  }
 },
 "nbformat": 4,
 "nbformat_minor": 5
}
