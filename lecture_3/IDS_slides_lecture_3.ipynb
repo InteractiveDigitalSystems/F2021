{
 "cells": [
  {
   "cell_type": "markdown",
   "metadata": {
    "slideshow": {
     "slide_type": "slide"
    }
   },
   "source": [
    "# IDS - Lecture 3\n",
    "## JSON, Network and APIs"
   ]
  },
  {
   "cell_type": "markdown",
   "metadata": {
    "slideshow": {
     "slide_type": "subslide"
    }
   },
   "source": [
    "## Today's agenda\n",
    "* A solution to last week's homework\n",
    "* Tuples and optional input arguments for functions\n",
    "* Networking\n",
    "* JSON (JavaScript Object Notation)\n",
    "* APIs"
   ]
  },
  {
   "cell_type": "markdown",
   "metadata": {
    "slideshow": {
     "slide_type": "subslide"
    }
   },
   "source": [
    "### Learning goals today"
   ]
  },
  {
   "cell_type": "markdown",
   "metadata": {
    "slideshow": {
     "slide_type": "slide"
    }
   },
   "source": [
    "## Hand-in #1"
   ]
  },
  {
   "cell_type": "markdown",
   "metadata": {
    "slideshow": {
     "slide_type": "slide"
    }
   },
   "source": [
    "## A solution to last week's homework"
   ]
  },
  {
   "cell_type": "markdown",
   "metadata": {
    "slideshow": {
     "slide_type": "notes"
    }
   },
   "source": [
    "```python\n",
    "import threading\n",
    "import socket\n",
    "\n",
    "UDP_IP = \"127.0.0.1\"\n",
    "UDP_PORT = 6565\n",
    "\n",
    "sock = socket.socket(socket.AF_INET, socket.SOCK_DGRAM)  # UDP\n",
    "sock.bind((UDP_IP, UDP_PORT))\n",
    "\n",
    "\n",
    "def listen_to_udp():\n",
    "    while True:\n",
    "        data, addr = sock.recvfrom(1024)  # buffer size is 1024 bytes\n",
    "        print(f'\\nIncoming message: {data.decode(\"utf-8\")}')\n",
    "\n",
    "\n",
    "def listen_to_input():\n",
    "    while True:\n",
    "        message = input('Chat input: ')\n",
    "        sock.sendto(bytes(str(message), encoding='utf8'), (UDP_IP, 6566))\n",
    "\n",
    "\n",
    "if __name__ == \"__main__\":\n",
    "    t1 = threading.Thread(target=listen_to_input, args=())\n",
    "    t2 = threading.Thread(target=listen_to_udp, args=())\n",
    "\n",
    "    t1.start()\n",
    "    t2.start()\n",
    "```"
   ]
  },
  {
   "cell_type": "markdown",
   "metadata": {
    "slideshow": {
     "slide_type": "subslide"
    }
   },
   "source": [
    "### Fast hack for killing processes locking up a specific port\n",
    "On macOS we can open the terminal and input the following command. Replace _PORT_NUMBER_ with the port number.\n",
    "```\n",
    "sudo lsof -i :PORT_NUMBER\n",
    "```\n",
    "If a process is found, we can use the the process identifier (pid).\n",
    "```\n",
    "COMMAND     PID                USER   FD   TYPE             DEVICE SIZE/OFF NODE NAME\n",
    "python3.8 65683 frederikjuutilainen    3u  IPv4 0x27c268ecd189636d      0t0  UDP localhost:6565\n",
    "```\n",
    "\n",
    "Note the PID and input it in the following command:\n",
    "```\n",
    "kill -9 <PID>\n",
    "```"
   ]
  },
  {
   "cell_type": "markdown",
   "metadata": {
    "slideshow": {
     "slide_type": "subslide"
    }
   },
   "source": [
    "### Same process on Windows\n",
    "Found on [stackoverflow](https://stackoverflow.com/a/39633428).\n",
    "\n",
    "1. Open cmd.exe\n",
    "2. Insert ```netstat -ano | findstr :<PORT>```\n",
    "3. Locate the PID and insert in ```taskkill /PID <PID> /F```"
   ]
  },
  {
   "cell_type": "markdown",
   "metadata": {
    "slideshow": {
     "slide_type": "slide"
    }
   },
   "source": [
    "## More Python knowledge!\n",
    "Tuples and optional input arguments to functions!\n",
    "\n",
    "_Alot of the concepts presented here can also be found in [Automate The Boring Stuff](https://automatetheboringstuff.com/chapter4/)_"
   ]
  },
  {
   "cell_type": "markdown",
   "metadata": {
    "slideshow": {
     "slide_type": "subslide"
    }
   },
   "source": [
    "### Tuples!\n",
    "A _tuple_ is a type of data in Python, which is very similar to lists. Instead of using square brackets ```[]```, we used parentheses ```()``` when creating a tuple.\n",
    "```python\n",
    "test = (5, 0, 2)\n",
    "hello = ('Cool String', 0.01, 25, [2,2]) # can hold different kinds of data types\n",
    "```"
   ]
  },
  {
   "cell_type": "markdown",
   "metadata": {
    "slideshow": {
     "slide_type": "subslide"
    }
   },
   "source": [
    "Unlike lists, tuples are **immutable**. This means that their values cannot be modified, appended or removed."
   ]
  },
  {
   "cell_type": "code",
   "execution_count": null,
   "metadata": {
    "slideshow": {
     "slide_type": "fragment"
    }
   },
   "outputs": [],
   "source": [
    "test = (5, 0, 2)\n",
    "test[0] = 1 # will throw an error"
   ]
  },
  {
   "cell_type": "markdown",
   "metadata": {
    "slideshow": {
     "slide_type": "subslide"
    }
   },
   "source": [
    "If we wish to do so, we can convert tuples to lists and vice versa.\n",
    "```python\n",
    "tuple([2,5,2]) # convert list to tuple\n",
    "list(('one string', 'two string')) # convert tuple to list\n",
    "```"
   ]
  },
  {
   "cell_type": "markdown",
   "metadata": {
    "slideshow": {
     "slide_type": "subslide"
    }
   },
   "source": [
    "#### When to use tuples?\n",
    "When we want data to not be mutable and when it makes sense to structure data this way. An example could be first and last name:\n",
    "```python\n",
    "full_name = ('Frederik', 'Juutilainen')\n",
    "print(f'My last name is {full_name[1]}')\n",
    "```\n",
    "or coordinates:"
   ]
  },
  {
   "cell_type": "code",
   "execution_count": null,
   "metadata": {
    "slideshow": {
     "slide_type": "fragment"
    }
   },
   "outputs": [],
   "source": [
    "ruc_coordinates = (55.65315552816671, 12.14078009885621) # lat, lon\n",
    "norrebro_coordinates = (55.69442365844815, 12.548895741456962) # lat, lon"
   ]
  },
  {
   "cell_type": "code",
   "execution_count": null,
   "metadata": {
    "slideshow": {
     "slide_type": "fragment"
    }
   },
   "outputs": [],
   "source": [
    "import geopy.distance # pip3 install geopy\n",
    "dist = geopy.distance.distance(ruc_coordinates, norrebro_coordinates).km\n",
    "print(f'Distance from RUC to Nørrebro is {dist:.1f} km')"
   ]
  },
  {
   "cell_type": "markdown",
   "metadata": {
    "slideshow": {
     "slide_type": "-"
    }
   },
   "source": [
    "Mental exercises! Can you think of other forms of data or information that would represented well with a tuple?"
   ]
  },
  {
   "cell_type": "markdown",
   "metadata": {
    "slideshow": {
     "slide_type": "slide"
    }
   },
   "source": [
    "### Optional input parameters and method overloading\n",
    "_Tons of good points and examples to be found in [Automate the Boring stuff](https://automatetheboringstuff.com/2e/chapter3/)_\n",
    "\n",
    "In Java, arguments to functions are defined by their position in the function call."
   ]
  },
  {
   "cell_type": "markdown",
   "metadata": {
    "slideshow": {
     "slide_type": "fragment"
    }
   },
   "source": [
    "```java\n",
    "public static void printGreeting(String firstName, String lastName){\n",
    "    System.out.print(\"Hello \" + firstName + \" \" + lastName);\n",
    "}\n",
    "```"
   ]
  },
  {
   "cell_type": "markdown",
   "metadata": {
    "slideshow": {
     "slide_type": "subslide"
    }
   },
   "source": [
    "This is often also the case in Python, as we can remember with e.g. the ```random.randint(1,5)```-function. Here the first argument $1$ is the lower end of the range while $5$ is the upper end. We can however also use _keyword arguments_ and these are typically used when working with optional parameters."
   ]
  },
  {
   "cell_type": "markdown",
   "metadata": {
    "slideshow": {
     "slide_type": "subslide"
    }
   },
   "source": [
    "If we wanted the previous JAVA example to work with either only firstName or first and last name, we would have to overload the function.\n",
    "\n",
    "```java\n",
    "public static void printGreeting(String firstName){\n",
    "    System.out.print(\"Hello \" + firstName);\n",
    "}\n",
    "\n",
    "public static void printGreeting(String firstName, String lastName){\n",
    "    System.out.print(\"Hello \" + firstName + \" \" + lastName);\n",
    "}\n",
    "```"
   ]
  },
  {
   "cell_type": "markdown",
   "metadata": {
    "slideshow": {
     "slide_type": "subslide"
    }
   },
   "source": [
    "#### Using optional input parameters in Python\n",
    "An example of using an optional input parameter can be found in the ```print()```-function, were we can use the ```end```-keyword argument to decide what follows a string.\n",
    "\n",
    "```\n",
    "Print objects to the text stream file, separated by sep and followed by end. sep, end, file and flush, if present, must be given as keyword arguments.\n",
    "```\n",
    "_[Python3 \"print()\"-documentation](https://docs.python.org/3/library/functions.html#print)_"
   ]
  },
  {
   "cell_type": "code",
   "execution_count": null,
   "metadata": {},
   "outputs": [],
   "source": [
    "print('Hello', end='')\n",
    "print('World')"
   ]
  },
  {
   "cell_type": "markdown",
   "metadata": {
    "slideshow": {
     "slide_type": "subslide"
    }
   },
   "source": [
    "##### Creating a function with an optional input parameter"
   ]
  },
  {
   "cell_type": "code",
   "execution_count": null,
   "metadata": {
    "slideshow": {
     "slide_type": "fragment"
    }
   },
   "outputs": [],
   "source": [
    "def printGreeting(name, professor=False):\n",
    "    if professor:\n",
    "        name = 'Dr. ' + name\n",
    "    print(f'Hello {name}!')\n",
    "printGreeting('Frederik')\n",
    "printGreeting('Henning', professor=True)"
   ]
  },
  {
   "cell_type": "markdown",
   "metadata": {
    "slideshow": {
     "slide_type": "notes"
    }
   },
   "source": [
    "This allows us to avoid writing many versions of the \"same\" function, but handle the logic internally within a function."
   ]
  },
  {
   "cell_type": "markdown",
   "metadata": {
    "slideshow": {
     "slide_type": "subslide"
    }
   },
   "source": [
    "### Exercise!\n",
    "* Write a function which returns a list of all numbers from 1 to 25. The function should have the optional input argument ```omit```, which is a tuple of numbers that should not appear in the returned list.\n",
    "* Bonus: make sure the function does not crash if the ```omit```-parameter is not a tuple."
   ]
  },
  {
   "cell_type": "markdown",
   "metadata": {
    "slideshow": {
     "slide_type": "slide"
    }
   },
   "source": [
    "## Networking\n",
    "Last time we worked with sending messages over a local network. We showed this internally using [localhost](https://en.wikipedia.org/wiki/Localhost) ```127.0.0.1```, but this could also have been done to other devices visible on the network and using their IP address instead."
   ]
  },
  {
   "cell_type": "markdown",
   "metadata": {
    "slideshow": {
     "slide_type": "notes"
    }
   },
   "source": [
    "Show example of sending UDP message from TouchOSC on iOS to Python script."
   ]
  },
  {
   "cell_type": "markdown",
   "metadata": {
    "slideshow": {
     "slide_type": "subslide"
    }
   },
   "source": [
    "### Examples of UDP messaging in Interaction Design\n",
    "![alt text](images/thewave.png \"The Wave - Light installation\")\n",
    "_The Wave (Photo credit: Paul Grover for The Telegraph)_"
   ]
  },
  {
   "cell_type": "markdown",
   "metadata": {
    "slideshow": {
     "slide_type": "notes"
    }
   },
   "source": [
    "MS Teams (aka this lecture) also uses UDP messaging! By using network programming we are able to have different interactive systems or programs communicate with one another."
   ]
  },
  {
   "cell_type": "markdown",
   "metadata": {
    "slideshow": {
     "slide_type": "subslide"
    }
   },
   "source": [
    "### The Internet\n",
    "![alt text](images/internet.png \"The Internet\")"
   ]
  },
  {
   "cell_type": "markdown",
   "metadata": {
    "slideshow": {
     "slide_type": "subslide"
    }
   },
   "source": [
    "### _Ping_ and _traceroute_\n",
    "\n",
    "> Ping is a computer network administration software utility used to test the reachability of a host on an Internet Protocol (IP) network.\n",
    ">\n",
    "> --Source: ping (networking utility) ([wikipedia](https://en.wikipedia.org/wiki/Ping_(networking_utility)\\)))\n",
    "\n",
    "> In computing, traceroute and tracert are computer network diagnostic commands for displaying possible routes (paths) and measuring transit delays of packets across an Internet Protocol (IP) network.\n",
    "> \n",
    "> -- Source: traceroute ([wikipedia](https://en.wikipedia.org/wiki/Traceroute))\n"
   ]
  },
  {
   "cell_type": "markdown",
   "metadata": {
    "slideshow": {
     "slide_type": "subslide"
    }
   },
   "source": [
    "#### demo"
   ]
  },
  {
   "cell_type": "code",
   "execution_count": null,
   "metadata": {},
   "outputs": [],
   "source": [
    "res.encodingdoing = res.apparent_encoding\n",
    "tel = res.text.find('tel:')\n",
    "res.text[tel+9:tel+17]"
   ]
  },
  {
   "cell_type": "markdown",
   "metadata": {
    "slideshow": {
     "slide_type": "subslide"
    }
   },
   "source": [
    "### Using ```requests```\n",
    "Hypertext Transfer Protocol (HTTP) is a protocol for transmitting between clients and servers."
   ]
  },
  {
   "cell_type": "markdown",
   "metadata": {
    "slideshow": {
     "slide_type": "notes"
    }
   },
   "source": [
    "If we want to access information stored on the internet, the [Requests](https://requests.readthedocs.io/en/master/)-module allows us to do that easily."
   ]
  },
  {
   "cell_type": "markdown",
   "metadata": {
    "slideshow": {
     "slide_type": "slide"
    }
   },
   "source": [
    "## JSON\n",
    "\n",
    "https://raw.githubusercontent.com/lutangar/cities.json/master/cities.json\n",
    "\n",
    "* JSON (\"Jay-Son\") is __J__ava__S__cript __O__bject __N__otation.\n",
    "* Standard file format used to store and trasmit data.\n",
    "* Human-readable\n",
    "* Derived from JavaScript but now language independent.\n",
    "* Encoded in [UTF-8](https://en.wikipedia.org/wiki/UTF-8#Examples)"
   ]
  },
  {
   "cell_type": "markdown",
   "metadata": {
    "slideshow": {
     "slide_type": "subslide"
    }
   },
   "source": [
    "```javascript\n",
    "{\n",
    "  \"data\": [{\n",
    "    \"type\": \"articles\",\n",
    "    \"working\": false,\n",
    "    \"attributes\": {\n",
    "      \"title\": \"JSON:API paints my bikeshed!\",\n",
    "      \"body\": \"The shortest article. Ever.\"\n",
    "    }\n",
    "  }],\n",
    "  \"included\": [\n",
    "    {\n",
    "      \"type\": \"people\",\n",
    "      \"id\": 42,\n",
    "      \"attributes\": {\n",
    "        \"name\": \"John\"\n",
    "      }\n",
    "    }\n",
    "  ]\n",
    "}\n",
    "```"
   ]
  },
  {
   "cell_type": "markdown",
   "metadata": {
    "slideshow": {
     "slide_type": "subslide"
    }
   },
   "source": [
    "### JSON datatypes\n",
    "_Source: [wikipedia](https://en.wikipedia.org/wiki/JSON#Syntax)_\n",
    "\n",
    "* Number: a signed decimal number that may contain a fractional part and may use exponential E notation, but cannot include non-numbers such as NaN. The format makes no distinction between integer and floating-point.\n",
    "* String: a sequence of zero or more Unicode characters. Strings are delimited with double-quotation marks and support a backslash escaping syntax.\n",
    "* Boolean: either of the values ```true``` or ```false```\n",
    "* Array: an ordered list of zero or more values, each of which may be of any type. Arrays use square bracket notation with comma-separated elements.\n",
    "* Object: a collection of name–value pairs where the names (also called keys) are strings. Objects are intended to represent associative arrays,[2] where each key is unique within an object.\n",
    "* ```null```: an empty value, using the word null"
   ]
  },
  {
   "cell_type": "markdown",
   "metadata": {
    "slideshow": {
     "slide_type": "subslide"
    }
   },
   "source": [
    "### Working with JSON in Python\n",
    "JSON as inline String"
   ]
  },
  {
   "cell_type": "code",
   "execution_count": null,
   "metadata": {},
   "outputs": [],
   "source": [
    "import json\n",
    "\n",
    "# some JSON:\n",
    "x =  '{ \"name\":\"Frederik\", \"city\":\"Copenhagen\", \"Number of toes\": \"10\"}' # JSON as string\n",
    "\n",
    "# parse x:\n",
    "y = json.loads(x)\n",
    "\n",
    "# the result is a Python dictionary:\n",
    "print(y[\"city\"]) "
   ]
  },
  {
   "cell_type": "markdown",
   "metadata": {
    "slideshow": {
     "slide_type": "subslide"
    }
   },
   "source": [
    "### Loading and saving from JSON from file"
   ]
  },
  {
   "cell_type": "markdown",
   "metadata": {},
   "source": [
    "### JSON exercises\n",
    "* Make a list of cities in Sweden (SE) and sort by name.\n",
    "* Make a list of cities that end in \"ville\" and sort by country code.\n",
    "* Make a list of all cities closer than 500 km from Paris.\n",
    "* Find the city that's the furthest away from Banket (Zimbabwe)."
   ]
  },
  {
   "cell_type": "markdown",
   "metadata": {
    "slideshow": {
     "slide_type": "slide"
    }
   },
   "source": [
    "## APIs\n",
    "Loading JSON from HTTP end-point"
   ]
  },
  {
   "cell_type": "code",
   "execution_count": null,
   "metadata": {},
   "outputs": [],
   "source": []
  }
 ],
 "metadata": {
  "celltoolbar": "Slideshow",
  "kernelspec": {
   "display_name": "Python 3",
   "language": "python",
   "name": "python3"
  },
  "language_info": {
   "codemirror_mode": {
    "name": "ipython",
    "version": 3
   },
   "file_extension": ".py",
   "mimetype": "text/x-python",
   "name": "python",
   "nbconvert_exporter": "python",
   "pygments_lexer": "ipython3",
   "version": "3.8.2"
  }
 },
 "nbformat": 4,
 "nbformat_minor": 4
}
