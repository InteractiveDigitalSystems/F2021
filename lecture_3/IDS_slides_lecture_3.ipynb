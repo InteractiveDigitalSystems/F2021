{
 "cells": [
  {
   "cell_type": "markdown",
   "metadata": {
    "slideshow": {
     "slide_type": "slide"
    }
   },
   "source": [
    "# IDS - Lecture 3\n",
    "## JSON, Network and APIs"
   ]
  },
  {
   "cell_type": "markdown",
   "metadata": {
    "slideshow": {
     "slide_type": "subslide"
    }
   },
   "source": [
    "## Today's agenda\n",
    "* A solution to last week's homework\n",
    "* Tuples and optional input arguments for functions\n",
    "* Networking\n",
    "* JSON (JavaScript Object Notation)\n",
    "* Web APIs (HTTP GET)"
   ]
  },
  {
   "cell_type": "markdown",
   "metadata": {
    "slideshow": {
     "slide_type": "subslide"
    }
   },
   "source": [
    "### Learning goals today\n",
    "* Stronger Python skills\n",
    "* Somewhat of an understanding of how to get data from HTTP connection.\n",
    "* Storing and handling JSON in files!\n"
   ]
  },
  {
   "cell_type": "markdown",
   "metadata": {
    "slideshow": {
     "slide_type": "notes"
    }
   },
   "source": [
    "* Dip your feet in HTTP get requests\n",
    "* handling JSON files (local and through end-point)\n",
    "* Plenty of exercises!"
   ]
  },
  {
   "cell_type": "markdown",
   "metadata": {
    "slideshow": {
     "slide_type": "slide"
    }
   },
   "source": [
    "## A solution to last week's homework"
   ]
  },
  {
   "cell_type": "markdown",
   "metadata": {
    "slideshow": {
     "slide_type": "notes"
    }
   },
   "source": [
    "```python\n",
    "import threading\n",
    "import socket\n",
    "\n",
    "UDP_IP = \"127.0.0.1\"\n",
    "UDP_PORT = 6565\n",
    "\n",
    "sock = socket.socket(socket.AF_INET, socket.SOCK_DGRAM)  # UDP\n",
    "sock.bind((UDP_IP, UDP_PORT))\n",
    "\n",
    "\n",
    "def listen_to_udp():\n",
    "    while True:\n",
    "        data, addr = sock.recvfrom(1024)  # buffer size is 1024 bytes\n",
    "        print(f'\\nIncoming message: {data.decode(\"utf-8\")}')\n",
    "\n",
    "\n",
    "def listen_to_input():\n",
    "    while True:\n",
    "        message = input('Chat input: ')\n",
    "        sock.sendto(bytes(str(message), encoding='utf8'), (UDP_IP, 6566))\n",
    "\n",
    "\n",
    "if __name__ == \"__main__\":\n",
    "    t1 = threading.Thread(target=listen_to_input, args=())\n",
    "    t2 = threading.Thread(target=listen_to_udp, args=())\n",
    "\n",
    "    t1.start()\n",
    "    t2.start()\n",
    "```"
   ]
  },
  {
   "cell_type": "markdown",
   "metadata": {
    "slideshow": {
     "slide_type": "subslide"
    }
   },
   "source": [
    "### Fast hack for killing processes locking up a specific port\n",
    "On macOS we can open the terminal and input the following command. Replace _PORT_NUMBER_ with the port number.\n",
    "```\n",
    "sudo lsof -i :PORT_NUMBER\n",
    "```\n",
    "If a process is found, we can use the the process identifier (pid).\n",
    "```\n",
    "COMMAND     PID                USER   FD   TYPE             DEVICE SIZE/OFF NODE NAME\n",
    "python3.8 65683 frederikjuutilainen    3u  IPv4 0x27c268ecd189636d      0t0  UDP localhost:6565\n",
    "```\n",
    "\n",
    "Note the PID and input it in the following command:\n",
    "```\n",
    "kill -9 <PID>\n",
    "```"
   ]
  },
  {
   "cell_type": "markdown",
   "metadata": {
    "slideshow": {
     "slide_type": "subslide"
    }
   },
   "source": [
    "### Same process on Windows\n",
    "Found on [stackoverflow](https://stackoverflow.com/a/39633428).\n",
    "\n",
    "1. Open cmd.exe\n",
    "2. Insert ```netstat -ano | findstr :<PORT>```\n",
    "3. Locate the PID and insert in ```taskkill /PID <PID> /F```"
   ]
  },
  {
   "cell_type": "markdown",
   "metadata": {
    "slideshow": {
     "slide_type": "slide"
    }
   },
   "source": [
    "## More Python knowledge!\n",
    "Tuples and optional input arguments to functions!\n",
    "\n",
    "_Alot of the concepts presented here can also be found in [Automate The Boring Stuff](https://automatetheboringstuff.com/chapter4/)_"
   ]
  },
  {
   "cell_type": "markdown",
   "metadata": {
    "slideshow": {
     "slide_type": "subslide"
    }
   },
   "source": [
    "### Tuples!\n",
    "A _tuple_ is a type of data in Python, which is very similar to lists. Instead of using square brackets ```[]```, we used parentheses ```()``` when creating a tuple.\n",
    "```python\n",
    "test = (5, 0, 2)\n",
    "hello = ('Cool String', 0.01, 25, [2,2]) # can hold different kinds of data types\n",
    "```"
   ]
  },
  {
   "cell_type": "markdown",
   "metadata": {
    "slideshow": {
     "slide_type": "subslide"
    }
   },
   "source": [
    "Unlike lists, tuples are **immutable**. This means that their values cannot be modified, appended or removed."
   ]
  },
  {
   "cell_type": "code",
   "execution_count": null,
   "metadata": {
    "slideshow": {
     "slide_type": "fragment"
    }
   },
   "outputs": [],
   "source": [
    "test = (5, 0, 2)\n",
    "test[0] = 1 # will throw a TypeError"
   ]
  },
  {
   "cell_type": "markdown",
   "metadata": {
    "slideshow": {
     "slide_type": "subslide"
    }
   },
   "source": [
    "If we wish to do so, we can convert tuples to lists and vice versa.\n",
    "```python\n",
    "tuple([2,5,2]) # convert list to tuple\n",
    "list(('one string', 'two string')) # convert tuple to list\n",
    "```"
   ]
  },
  {
   "cell_type": "markdown",
   "metadata": {
    "slideshow": {
     "slide_type": "subslide"
    }
   },
   "source": [
    "#### When to use tuples?\n",
    "When we want data to not be mutable and when it makes sense to structure data this way. An example could be first and last name:\n",
    "```python\n",
    "full_name = ('Frederik', 'Juutilainen')\n",
    "print(f'My last name is {full_name[1]}')\n",
    "```\n",
    "or coordinates:"
   ]
  },
  {
   "cell_type": "code",
   "execution_count": null,
   "metadata": {
    "slideshow": {
     "slide_type": "fragment"
    }
   },
   "outputs": [],
   "source": [
    "ruc_coordinates = (55.65315552816671, 12.14078009885621) # lat, lon\n",
    "norrebro_coordinates = (55.69442365844815, 12.548895741456962) # lat, lon"
   ]
  },
  {
   "cell_type": "code",
   "execution_count": null,
   "metadata": {
    "slideshow": {
     "slide_type": "fragment"
    }
   },
   "outputs": [],
   "source": [
    "import geopy.distance # pip3 install geopy\n",
    "dist = geopy.distance.distance(ruc_coordinates, norrebro_coordinates).km\n",
    "print(f'Distance from RUC to Nørrebro is {dist:.1f} km')"
   ]
  },
  {
   "cell_type": "markdown",
   "metadata": {
    "slideshow": {
     "slide_type": "notes"
    }
   },
   "source": [
    "Mental exercises! Can you think of other forms of data or information that would represented well with a tuple?"
   ]
  },
  {
   "cell_type": "markdown",
   "metadata": {
    "slideshow": {
     "slide_type": "slide"
    }
   },
   "source": [
    "### Optional input parameters and method overloading\n",
    "_Tons of good points and examples to be found in [Automate the Boring stuff](https://automatetheboringstuff.com/2e/chapter3/)_\n",
    "\n",
    "In Java, arguments to functions are defined by their position in the function call."
   ]
  },
  {
   "cell_type": "markdown",
   "metadata": {
    "slideshow": {
     "slide_type": "fragment"
    }
   },
   "source": [
    "```java\n",
    "public static void printGreeting(String firstName, String lastName){\n",
    "    System.out.print(\"Hello \" + firstName + \" \" + lastName);\n",
    "}\n",
    "```"
   ]
  },
  {
   "cell_type": "markdown",
   "metadata": {
    "slideshow": {
     "slide_type": "subslide"
    }
   },
   "source": [
    "This is often also the case in Python, as we can remember with e.g. the ```random.randint(1,5)```-function. Here the first argument $1$ is the lower end of the range while $5$ is the upper end. We can however also use _keyword arguments_ and these are typically used when working with optional parameters."
   ]
  },
  {
   "cell_type": "markdown",
   "metadata": {
    "slideshow": {
     "slide_type": "subslide"
    }
   },
   "source": [
    "If we wanted the previous JAVA example to work with either only firstName or first and last name, we would have to overload the function.\n",
    "\n",
    "```java\n",
    "public static void printGreeting(String firstName){\n",
    "    System.out.print(\"Hello \" + firstName);\n",
    "}\n",
    "\n",
    "public static void printGreeting(String firstName, String lastName){\n",
    "    System.out.print(\"Hello \" + firstName + \" \" + lastName);\n",
    "}\n",
    "```"
   ]
  },
  {
   "cell_type": "markdown",
   "metadata": {
    "slideshow": {
     "slide_type": "subslide"
    }
   },
   "source": [
    "#### Using optional input parameters in Python\n",
    "An example of using an optional input parameter can be found in the ```print()```-function, were we can use the ```end```-keyword argument to decide what follows a string.\n",
    "\n",
    "```\n",
    "Print objects to the text stream file, separated by sep and followed by end. sep, end, file and flush, if present, must be given as keyword arguments.\n",
    "```\n",
    "_[Python3 \"print()\"-documentation](https://docs.python.org/3/library/functions.html#print)_"
   ]
  },
  {
   "cell_type": "code",
   "execution_count": null,
   "metadata": {},
   "outputs": [],
   "source": [
    "print('Hello', end='')\n",
    "print('World')"
   ]
  },
  {
   "cell_type": "markdown",
   "metadata": {
    "slideshow": {
     "slide_type": "subslide"
    }
   },
   "source": [
    "##### Creating a function with an optional input parameter"
   ]
  },
  {
   "cell_type": "code",
   "execution_count": null,
   "metadata": {
    "slideshow": {
     "slide_type": "fragment"
    }
   },
   "outputs": [],
   "source": [
    "def printGreeting(name, professor=False):\n",
    "    if professor:\n",
    "        name = 'Dr. ' + name\n",
    "    print(f'Hello {name}!')\n",
    "printGreeting('Frederik')\n",
    "printGreeting('Henning', professor=True)"
   ]
  },
  {
   "cell_type": "markdown",
   "metadata": {
    "slideshow": {
     "slide_type": "notes"
    }
   },
   "source": [
    "This allows us to avoid writing many versions of the \"same\" function, but handle the logic internally within a function."
   ]
  },
  {
   "cell_type": "markdown",
   "metadata": {
    "slideshow": {
     "slide_type": "subslide"
    }
   },
   "source": [
    "### Exercise!\n",
    "* Write a function which returns a list of all numbers from 1 to 25. The function should have the optional input argument ```omit```, which is a tuple of numbers that should not appear in the returned list.\n",
    "* Bonus: make sure the function does not crash if the ```omit```-parameter is not a tuple."
   ]
  },
  {
   "cell_type": "markdown",
   "metadata": {
    "slideshow": {
     "slide_type": "slide"
    }
   },
   "source": [
    "## Networking\n",
    "Last time we worked with sending messages over a local network. We showed this internally using [localhost](https://en.wikipedia.org/wiki/Localhost) ```127.0.0.1```, but this could also have been done to other devices visible on the network and using their IP address instead."
   ]
  },
  {
   "cell_type": "markdown",
   "metadata": {
    "slideshow": {
     "slide_type": "notes"
    }
   },
   "source": [
    "Show example of sending UDP message from TouchOSC on iOS to Python script."
   ]
  },
  {
   "cell_type": "markdown",
   "metadata": {
    "slideshow": {
     "slide_type": "subslide"
    }
   },
   "source": [
    "### Examples of UDP messaging in Interaction Design\n",
    "![alt text](images/thewave.png \"The Wave - Light installation\")\n",
    "_The Wave (Photo credit: Paul Grover for The Telegraph)_"
   ]
  },
  {
   "cell_type": "markdown",
   "metadata": {
    "slideshow": {
     "slide_type": "notes"
    }
   },
   "source": [
    "MS Teams (aka this lecture) also uses UDP messaging! By using network programming we are able to have different interactive systems or programs communicate with one another."
   ]
  },
  {
   "cell_type": "markdown",
   "metadata": {
    "slideshow": {
     "slide_type": "subslide"
    }
   },
   "source": [
    "### The Internet\n",
    "![alt text](images/internet.png \"The Internet\")"
   ]
  },
  {
   "cell_type": "markdown",
   "metadata": {
    "slideshow": {
     "slide_type": "subslide"
    }
   },
   "source": [
    "### _Ping_ and _traceroute_\n",
    "\n",
    "> Ping is a computer network administration software utility used to test the reachability of a host on an Internet Protocol (IP) network.\n",
    ">\n",
    "> --Source: ping (networking utility) ([wikipedia](https://en.wikipedia.org/wiki/Ping_(networking_utility)\\)))\n",
    "\n",
    "> In computing, traceroute and tracert are computer network diagnostic commands for displaying possible routes (paths) and measuring transit delays of packets across an Internet Protocol (IP) network.\n",
    "> \n",
    "> -- Source: traceroute ([wikipedia](https://en.wikipedia.org/wiki/Traceroute))\n"
   ]
  },
  {
   "cell_type": "markdown",
   "metadata": {
    "slideshow": {
     "slide_type": "slide"
    }
   },
   "source": [
    "## JSON\n",
    "\n",
    "https://raw.githubusercontent.com/lutangar/cities.json/master/cities.json\n",
    "\n",
    "* JSON (\"Jay-Son\") is __J__ava__S__cript __O__bject __N__otation.\n",
    "* Standard file format used to store and trasmit data.\n",
    "* Human-readable\n",
    "* Derived from JavaScript but now language independent.\n",
    "* Encoded in [UTF-8](https://en.wikipedia.org/wiki/UTF-8#Examples)"
   ]
  },
  {
   "cell_type": "markdown",
   "metadata": {
    "slideshow": {
     "slide_type": "subslide"
    }
   },
   "source": [
    "```javascript\n",
    "{\n",
    "  \"data\": [{\n",
    "    \"type\": \"articles\",\n",
    "    \"working\": false,\n",
    "    \"attributes\": {\n",
    "      \"title\": \"JSON:API paints my bikeshed!\",\n",
    "      \"body\": \"The shortest article. Ever.\"\n",
    "    }\n",
    "  }],\n",
    "  \"included\": [\n",
    "    {\n",
    "      \"type\": \"people\",\n",
    "      \"id\": 42,\n",
    "      \"attributes\": {\n",
    "        \"name\": \"John\"\n",
    "      }\n",
    "    }\n",
    "  ]\n",
    "}\n",
    "```"
   ]
  },
  {
   "cell_type": "markdown",
   "metadata": {
    "slideshow": {
     "slide_type": "subslide"
    }
   },
   "source": [
    "### JSON datatypes\n",
    "_Source: [wikipedia](https://en.wikipedia.org/wiki/JSON#Syntax)_\n",
    "\n",
    "* Number: a signed decimal number that may contain a fractional part and may use exponential E notation, but cannot include non-numbers such as NaN. The format makes no distinction between integer and floating-point.\n",
    "* String: a sequence of zero or more Unicode characters. Strings are delimited with double-quotation marks and support a backslash escaping syntax.\n",
    "* Boolean: either of the values ```true``` or ```false```\n",
    "* Array: an ordered list of zero or more values, each of which may be of any type. Arrays use square bracket notation with comma-separated elements.\n",
    "* Object: a collection of name–value pairs where the names (also called keys) are strings. Objects are intended to represent associative arrays,[2] where each key is unique within an object.\n",
    "* ```null```: an empty value, using the word null"
   ]
  },
  {
   "cell_type": "markdown",
   "metadata": {
    "slideshow": {
     "slide_type": "subslide"
    }
   },
   "source": [
    "### Working with JSON in Python\n",
    "JSON as inline String"
   ]
  },
  {
   "cell_type": "code",
   "execution_count": null,
   "metadata": {},
   "outputs": [],
   "source": [
    "import json\n",
    "\n",
    "# some JSON:\n",
    "x =  '{ \"name\":\"Frederik\", \"city\":\"Copenhagen\", \"Number of toes\": \"10\"}' # JSON as string\n",
    "\n",
    "# parse x:\n",
    "y = json.loads(x)\n",
    "\n",
    "# the result is a Python dictionary:\n",
    "print(y[\"city\"]) "
   ]
  },
  {
   "cell_type": "markdown",
   "metadata": {
    "slideshow": {
     "slide_type": "subslide"
    }
   },
   "source": [
    "### Loading and saving from JSON from file"
   ]
  },
  {
   "cell_type": "markdown",
   "metadata": {
    "slideshow": {
     "slide_type": "fragment"
    }
   },
   "source": [
    "Demonstrate Jupyter in VSCODE"
   ]
  },
  {
   "cell_type": "code",
   "execution_count": null,
   "metadata": {},
   "outputs": [],
   "source": [
    "# importing the module \n",
    "import json \n",
    "import geopy.distance  \n",
    "    \n",
    "# Opening JSON file \n",
    "# cities.json download from https://github.com/lutangar/cities.json/blob/master/cities.json or moodle\n",
    "with open('data/cities.json') as json_file: \n",
    "    cities = json.load(json_file)\n",
    "    \n",
    "# saving to JSON\n",
    "#with open('data/output.json', 'w') as file_out:\n",
    "#    json.dump(cities , file_out)"
   ]
  },
  {
   "cell_type": "markdown",
   "metadata": {},
   "source": [
    "### JSON exercises\n",
    "_Using [cities dataset](https://github.com/lutangar/cities.json)_ (can also be found on moodle)\n",
    "* Make a list of cities in Sweden (SE) and [sort by name](https://stackoverflow.com/a/73050).\n",
    "* Make a list of cities that end in \"ville\" and sort by country code.\n",
    "* Make a list of all cities closer than 500 km to Paris (FR) and insert distance to Paris in each dict.\n",
    "    * Tip 1: use the calculate distance method from earlier in the slides\n",
    "    * Tip 2: experiment on sliced subset e.g. ```cities[:50]``` to save time\n",
    "    * You should get 13580 cities including Paris it self\n",
    "* Find the city that's the furthest away from Banket (Zimbabwe / ```ZW```).\n",
    "    * Result should be \"Leilani Estates\"\n",
    "    \n",
    "__Remember to save your solutions!__"
   ]
  },
  {
   "cell_type": "markdown",
   "metadata": {
    "slideshow": {
     "slide_type": "slide"
    }
   },
   "source": [
    "## Web APIs\n",
    "* What is an API?\n",
    "* What is a web API?\n",
    "* HTTP request\n",
    "* HTTP request in Python"
   ]
  },
  {
   "cell_type": "markdown",
   "metadata": {
    "slideshow": {
     "slide_type": "notes"
    }
   },
   "source": [
    "An application programming interface (API), is a computing interface that defines interactions between multiple software components.\n",
    "\n",
    "A web API is an interface which has one or more endpoints - usually accessed through HTTP."
   ]
  },
  {
   "cell_type": "markdown",
   "metadata": {
    "slideshow": {
     "slide_type": "subslide"
    }
   },
   "source": [
    "### HTTP requests\n",
    "> HTTP defines a set of request methods to indicate the desired action to be performed for a given resource. Although they can also be nouns, these request methods are sometimes referred to as HTTP verbs.\n",
    "> \n",
    "> -- <cite>[Mozilla](https://developer.mozilla.org/en-US/docs/Web/HTTP/Methods)</cite>"
   ]
  },
  {
   "cell_type": "markdown",
   "metadata": {
    "slideshow": {
     "slide_type": "subslide"
    }
   },
   "source": [
    "Some common HTTP requests include:\n",
    "###### GET\n",
    "The GET method requests a representation of the specified resource. Requests using GET should only retrieve data.\n",
    "######  POST\n",
    "The POST method is used to submit an entity to the specified resource, often causing a change in state or side effects on the server.\n",
    "###### PUT\n",
    "The PUT method replaces all current representations of the target resource with the request payload.\n",
    "###### DELETE\n",
    "The DELETE method deletes the specified resource."
   ]
  },
  {
   "cell_type": "markdown",
   "metadata": {
    "slideshow": {
     "slide_type": "notes"
    }
   },
   "source": [
    "If we want to access information stored on the internet, the [Requests](https://requests.readthedocs.io/en/master/)-module allows us to do that easily."
   ]
  },
  {
   "cell_type": "markdown",
   "metadata": {
    "slideshow": {
     "slide_type": "subslide"
    }
   },
   "source": [
    "### HTTP request in python"
   ]
  },
  {
   "cell_type": "code",
   "execution_count": null,
   "metadata": {
    "slideshow": {
     "slide_type": "fragment"
    }
   },
   "outputs": [],
   "source": [
    "# getting HTML\n",
    "r = requests.get('https://ruc.dk/')\n",
    "r.text; # HTML code"
   ]
  },
  {
   "cell_type": "code",
   "execution_count": null,
   "metadata": {
    "slideshow": {
     "slide_type": "fragment"
    }
   },
   "outputs": [],
   "source": [
    "# Reading image\n",
    "from PIL import Image # pip3 install Pillow\n",
    "\n",
    "url = 'https://ruc.dk/sites/default/files/styles/footer_map_image/public/2020-12/campus_overview.jpg?itok=D26B1wen'\n",
    "im = Image.open(requests.get(url, stream=True).raw)"
   ]
  },
  {
   "cell_type": "markdown",
   "metadata": {
    "slideshow": {
     "slide_type": "subslide"
    }
   },
   "source": [
    "### HTTP requests on API\n",
    "1. Find API\n",
    "2. Read documentation\n",
    "3. Create user with authentication (a must in some cases)\n",
    "4. HTTP requests using ```requests```"
   ]
  },
  {
   "cell_type": "markdown",
   "metadata": {
    "slideshow": {
     "slide_type": "subslide"
    }
   },
   "source": [
    "#### Example - Weather\n",
    "https://www.metaweather.com/api/"
   ]
  },
  {
   "cell_type": "code",
   "execution_count": null,
   "metadata": {
    "slideshow": {
     "slide_type": "fragment"
    }
   },
   "outputs": [],
   "source": [
    "import requests\n",
    "\n",
    "ruc_coordinates = (55.65315552816671, 12.14078009885621) # lat, lon\n",
    "\n",
    "# defining a params dict for the parameters to be sent to the API \n",
    "ruc_coordinates = (55.65315552816671, 12.14078009885621) # lat, lon\n",
    "\n",
    "# format as comma separated lattitude and longitude\n",
    "ruc_coordinates_formatted = str(ruc_coordinates).strip('(').strip(')')\n",
    "payload = {'lattlong': ruc_coordinates_formatted}\n",
    "  \n",
    "# sending get request and saving the response as response object \n",
    "r = requests.get(url = \"https://www.metaweather.com/api/location/search/\", params = payload) \n",
    "  \n",
    "# extracting data in json format \n",
    "response = r.json() \n",
    "response"
   ]
  },
  {
   "cell_type": "code",
   "execution_count": null,
   "metadata": {
    "slideshow": {
     "slide_type": "subslide"
    }
   },
   "outputs": [],
   "source": [
    "# sending get request and saving the response as response object \n",
    "params = {'query': 'copenhagen'}\n",
    "r = requests.get(url = \"https://www.metaweather.com/api/location/search/\", params = params) \n",
    "  \n",
    "# extracting data in json format \n",
    "response = r.json() "
   ]
  },
  {
   "cell_type": "code",
   "execution_count": null,
   "metadata": {
    "slideshow": {
     "slide_type": "subslide"
    }
   },
   "outputs": [],
   "source": [
    "r = requests.get(url = \"https://www.metaweather.com/api/location/\" + str(response[0]['woeid'])) \n",
    "  \n",
    "# extracting data in json format \n",
    "response = r.json() \n",
    "response"
   ]
  },
  {
   "cell_type": "markdown",
   "metadata": {
    "slideshow": {
     "slide_type": "subslide"
    }
   },
   "source": [
    "### Exercise\n",
    "1. Find interesting API on https://mixedanalytics.com/blog/list-actually-free-open-no-auth-needed-apis/\n",
    "2. Get and interpret data using ```requests```and the dictionary and string techniques we have learned\n",
    "3. _Ideas and examples:_\n",
    "    * E.g. can you create a dictionary with both coordinates and population size of Boston (US).\n",
    "    * Find software developer Jobs in Berlin!\n",
    "    * Make a chat bot that tells jokes\n",
    "    * Find all countries where they speak Spanish\n",
    "    * Get Public holidays of all countries ending in A where they speak French"
   ]
  },
  {
   "cell_type": "code",
   "execution_count": null,
   "metadata": {},
   "outputs": [],
   "source": []
  }
 ],
 "metadata": {
  "celltoolbar": "Slideshow",
  "kernelspec": {
   "display_name": "Python 3",
   "language": "python",
   "name": "python3"
  },
  "language_info": {
   "codemirror_mode": {
    "name": "ipython",
    "version": 3
   },
   "file_extension": ".py",
   "mimetype": "text/x-python",
   "name": "python",
   "nbconvert_exporter": "python",
   "pygments_lexer": "ipython3",
   "version": "3.8.2"
  }
 },
 "nbformat": 4,
 "nbformat_minor": 4
}
