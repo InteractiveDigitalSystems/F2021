{
 "cells": [
  {
   "cell_type": "markdown",
   "id": "unique-duplicate",
   "metadata": {},
   "source": [
    "# Interactive Digital Systems\n",
    "Lecture 2\n",
    "\n",
    "## Low level networking with sockets and Threaded programming\n",
    "\n",
    "\n"
   ]
  },
  {
   "cell_type": "markdown",
   "id": "tutorial-tobago",
   "metadata": {
    "slideshow": {
     "slide_type": "slide"
    }
   },
   "source": [
    "# Agenda:\n",
    "\n",
    "## Short follow-up on last week's topics\n",
    "\n",
    "## Network programming\n",
    "* Low level network programming using UDP & TCP\n",
    "* Using Packet Sender to test your applications \n",
    "\n",
    "\n",
    "## Threaded programming\n",
    "* doing things simultaneous e.g. sending and receiving packets :-)\n"
   ]
  },
  {
   "cell_type": "markdown",
   "id": "viral-scene",
   "metadata": {
    "slideshow": {
     "slide_type": "slide"
    }
   },
   "source": [
    "### Lets take a look at string1 and list1 exercise from last time...."
   ]
  },
  {
   "cell_type": "markdown",
   "id": "particular-exhibit",
   "metadata": {
    "slideshow": {
     "slide_type": "slide"
    }
   },
   "source": [
    "# warm up exercise:"
   ]
  },
  {
   "cell_type": "code",
   "execution_count": 2,
   "id": "constant-vacation",
   "metadata": {
    "slideshow": {
     "slide_type": "fragment"
    }
   },
   "outputs": [
    {
     "name": "stdout",
     "output_type": "stream",
     "text": [
      "verbing\n",
      "  X  got: None expected: 'hailing'\n",
      "  X  got: None expected: 'swimingly'\n",
      "  X  got: None expected: 'do'\n"
     ]
    }
   ],
   "source": [
    "# D. verbing\n",
    "# Given a string, if its length is at least 3,\n",
    "# add 'ing' to its end.\n",
    "# Unless it already ends in 'ing', in which case\n",
    "# add 'ly' instead.\n",
    "# If the string length is less than 3, leave it unchanged.\n",
    "# Return the resulting string.\n",
    "def verbing(s):\n",
    "    # +++your code here+++\n",
    "    return \n",
    "\n",
    "def test(got, expected):\n",
    "    if got == expected:\n",
    "        prefix = ' OK '\n",
    "    else:\n",
    "        prefix = '  X '\n",
    "    print ('%s got: %s expected: %s' % (prefix, repr(got), repr(expected)))\n",
    "\n",
    "print ('verbing')\n",
    "test(verbing('hail'), 'hailing')\n",
    "test(verbing('swiming'), 'swimingly')\n",
    "test(verbing('do'), 'do')\n",
    "\n"
   ]
  },
  {
   "cell_type": "markdown",
   "id": "random-officer",
   "metadata": {
    "slideshow": {
     "slide_type": "slide"
    }
   },
   "source": [
    "# Network programming\n",
    "\n",
    "* What is (low level) network programming\n",
    "* Communication?\n",
    "* bytes?\n",
    "* ports?\n",
    "* IP?\n",
    "\n"
   ]
  },
  {
   "cell_type": "markdown",
   "id": "approved-object",
   "metadata": {
    "slideshow": {
     "slide_type": "slide"
    }
   },
   "source": [
    "![alt text](osi_model.jpg \"Title\")"
   ]
  },
  {
   "cell_type": "markdown",
   "id": "ancient-research",
   "metadata": {
    "slideshow": {
     "slide_type": "slide"
    }
   },
   "source": [
    "# Differences between UDP & TCP\n"
   ]
  },
  {
   "cell_type": "markdown",
   "id": "focused-vienna",
   "metadata": {
    "slideshow": {
     "slide_type": "slide"
    }
   },
   "source": [
    "# Sending a UDP packet"
   ]
  },
  {
   "cell_type": "code",
   "execution_count": null,
   "id": "white-renaissance",
   "metadata": {
    "slideshow": {
     "slide_type": "fragment"
    }
   },
   "outputs": [],
   "source": [
    "import socket \n",
    "UDP_IP = \"127.0.0.1\"\n",
    "UDP_PORT = 7007\n",
    "MESSAGE = b\"Hello, World!\"\n",
    "print(\"UDP target IP: %s\" % UDP_IP)\n",
    "print(\"UDP target port: %s\" % UDP_PORT)\n",
    "print(\"message: %s\" % MESSAGE)\n",
    " \n",
    "sock = socket.socket(socket.AF_INET, # Internet\n",
    "socket.SOCK_DGRAM) # UDP\n",
    "sock.sendto(MESSAGE, (UDP_IP, UDP_PORT))"
   ]
  },
  {
   "cell_type": "markdown",
   "id": "unexpected-wealth",
   "metadata": {
    "slideshow": {
     "slide_type": "slide"
    }
   },
   "source": [
    "# Receive a UDP packet"
   ]
  },
  {
   "cell_type": "code",
   "execution_count": null,
   "id": "extreme-finish",
   "metadata": {
    "slideshow": {
     "slide_type": "fragment"
    }
   },
   "outputs": [
    {
     "name": "stdout",
     "output_type": "stream",
     "text": [
      "received message: b'sending this'\n",
      "received message: b'sending this'\n",
      "received message: b'sending this'\n"
     ]
    }
   ],
   "source": [
    "import socket\n",
    "\n",
    "UDP_IP = \"127.0.0.1\"\n",
    "UDP_PORT = 5005\n",
    "\n",
    "sock = socket.socket(socket.AF_INET, socket.SOCK_DGRAM) # UDP\n",
    "sock.bind((UDP_IP, UDP_PORT))\n",
    "\n",
    "while True:\n",
    "    data, addr = sock.recvfrom(1024) # buffer size is 1024 bytes\n",
    "    print(\"received message: %s\" % data)"
   ]
  },
  {
   "cell_type": "markdown",
   "id": "daily-arthritis",
   "metadata": {
    "slideshow": {
     "slide_type": "slide"
    }
   },
   "source": [
    "# Packet Sender\n",
    "### Testing your application\n",
    "\n",
    "![packet sender](packetsender.PNG)"
   ]
  },
  {
   "cell_type": "markdown",
   "id": "stopped-namibia",
   "metadata": {
    "slideshow": {
     "slide_type": "slide"
    }
   },
   "source": [
    "# Exercise in break out rooms\n",
    "\n",
    "### Create a udp application you can send simple math problems to\n",
    "\n",
    "Requirements\n",
    "* It should be waiting for problems to come in on port 6565\n",
    "* all numbers and mathematical symbols must be separated with whitespace\n",
    "* I must be able to handle both addition and subtraction\n",
    "* the application must reply with the result\n",
    "* if you have time left try to implement a feature where the calculation time is measured and send back with the answer\n",
    "    [read about measuring time with python here](https://www.tutorialspoint.com/How-to-measure-elapsed-time-in-python)\n"
   ]
  },
  {
   "cell_type": "markdown",
   "id": "regulated-option",
   "metadata": {
    "slideshow": {
     "slide_type": "slide"
    }
   },
   "source": [
    "# Can you remember.... what was actually the differences between UDP and TCP?"
   ]
  },
  {
   "cell_type": "markdown",
   "id": "blocked-armstrong",
   "metadata": {
    "slideshow": {
     "slide_type": "slide"
    }
   },
   "source": [
    "# TCP Client"
   ]
  },
  {
   "cell_type": "code",
   "execution_count": null,
   "id": "clinical-secretariat",
   "metadata": {
    "slideshow": {
     "slide_type": "fragment"
    }
   },
   "outputs": [],
   "source": [
    "import socket\n",
    "\n",
    "HOST = '127.0.0.1'  # The server's hostname or IP address\n",
    "PORT = 9009        # The port used by the server\n",
    "\n",
    "with socket.socket(socket.AF_INET, socket.SOCK_STREAM) as s:\n",
    "    s.connect((HOST, PORT))\n",
    "    while True:\n",
    "        data = s.recv(1024)\n",
    "        s.sendall(b'Hello, world')\n",
    "        print('Received', repr(data)) "
   ]
  },
  {
   "cell_type": "markdown",
   "id": "macro-extent",
   "metadata": {
    "slideshow": {
     "slide_type": "slide"
    }
   },
   "source": [
    "# TCP Server"
   ]
  },
  {
   "cell_type": "code",
   "execution_count": null,
   "id": "central-placement",
   "metadata": {
    "slideshow": {
     "slide_type": "fragment"
    }
   },
   "outputs": [],
   "source": [
    "import socket\n",
    "\n",
    "HOST = '127.0.0.1'  # Standard loopback interface address (localhost)\n",
    "PORT = 9009        # Port to listen on (non-privileged ports are > 1023)\n",
    "\n",
    "with socket.socket(socket.AF_INET, socket.SOCK_STREAM) as s:\n",
    "    s.bind((HOST, PORT))\n",
    "    s.listen()\n",
    "    conn, addr = s.accept()\n",
    "    with conn:\n",
    "        print('Connected by', addr)\n",
    "        while True:\n",
    "            data = conn.recv(1204)\n",
    "            conn.sendall(b'ECHO ' + data)"
   ]
  },
  {
   "cell_type": "markdown",
   "id": "martial-fields",
   "metadata": {
    "slideshow": {
     "slide_type": "slide"
    }
   },
   "source": [
    "# Create a TCP chat server and client\n",
    "We still need som building block to make the perfect chat server :-(\n",
    "\n",
    "For now we have to settle with a chat server where yo take turns to write a message and read an answer and you can only add a single client to the server!"
   ]
  },
  {
   "cell_type": "markdown",
   "id": "hidden-hometown",
   "metadata": {
    "slideshow": {
     "slide_type": "slide"
    }
   },
   "source": [
    "# Threaded Programming in Python?\n",
    "* What is threaded programming\n",
    "* What can threads do for you and your applications"
   ]
  },
  {
   "cell_type": "markdown",
   "id": "outside-paris",
   "metadata": {
    "slideshow": {
     "slide_type": "slide"
    }
   },
   "source": [
    "# Use threads in python"
   ]
  },
  {
   "cell_type": "code",
   "execution_count": null,
   "id": "three-little",
   "metadata": {
    "slideshow": {
     "slide_type": "fragment"
    }
   },
   "outputs": [],
   "source": [
    "import threading \n",
    "import time\n",
    "from random import random\n",
    "  \n",
    "def randomNumbers(n): \n",
    "    for nn in range(n):\n",
    "        print(random())\n",
    "        time.sleep(0.3)\n",
    "  \n",
    "def countToN(n): \n",
    "    for nn in range(n):\n",
    "        print (nn)\n",
    "        time.sleep(1)\n",
    "        nn+=1\n",
    "\n",
    "\n",
    "  \n",
    "# creating thread \n",
    "t1 = threading.Thread(target=randomNumbers, args=(50,)) \n",
    "t2 = threading.Thread(target=countToN, args=(50,)) \n",
    "\n",
    "# starting thread 1 \n",
    "t1.start() \n",
    "# starting thread 2 \n",
    "t2.start() \n",
    "\n",
    "# wait until thread 1 is completely executed \n",
    "t1.join() \n",
    "# wait until thread 2 is completely executed \n",
    "t2.join() \n",
    "\n",
    "# both threads completely executed \n",
    "print(\"Done!\") "
   ]
  },
  {
   "cell_type": "markdown",
   "id": "alike-render",
   "metadata": {
    "slideshow": {
     "slide_type": "slide"
    }
   },
   "source": [
    "# Use threads to improve the chat server and clients\n",
    "add a thread for listening for messages"
   ]
  },
  {
   "cell_type": "code",
   "execution_count": null,
   "id": "static-world",
   "metadata": {},
   "outputs": [],
   "source": []
  }
 ],
 "metadata": {
  "celltoolbar": "Slideshow",
  "kernelspec": {
   "display_name": "Python 3",
   "language": "python",
   "name": "python3"
  },
  "language_info": {
   "codemirror_mode": {
    "name": "ipython",
    "version": 3
   },
   "file_extension": ".py",
   "mimetype": "text/x-python",
   "name": "python",
   "nbconvert_exporter": "python",
   "pygments_lexer": "ipython3",
   "version": "3.9.1"
  }
 },
 "nbformat": 4,
 "nbformat_minor": 5
}
