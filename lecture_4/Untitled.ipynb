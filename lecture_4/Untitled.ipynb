{
 "cells": [
  {
   "cell_type": "markdown",
   "id": "boolean-interaction",
   "metadata": {
    "slideshow": {
     "slide_type": "slide"
    }
   },
   "source": [
    "# IDS\n",
    "## Lecture 4\n",
    "\n",
    "![example1](example1.PNG)\n",
    "\n",
    "This week we will focus on how we can interact with your application. we will be using something called a \"Terminal User Interface\""
   ]
  },
  {
   "cell_type": "markdown",
   "id": "sharing-apartment",
   "metadata": {
    "slideshow": {
     "slide_type": "slide"
    }
   },
   "source": [
    "# PIP\n",
    "## Package Installer for Python\n",
    "\n",
    "We will be using a package called npyscreen\n",
    "\n",
    "```\n",
    "pip install npyscreen\n",
    "```\n",
    "...and if you use windows\n",
    "pip install windows\n",
    "\n",
    "```\n",
    "pip install windows-curses\n",
    "```"
   ]
  },
  {
   "cell_type": "markdown",
   "id": "comfortable-table",
   "metadata": {
    "slideshow": {
     "slide_type": "slide"
    }
   },
   "source": [
    "# A Quick test run.....\n",
    "```\n",
    "import npyscreen\n",
    "\n",
    "class App(npyscreen.NPSAppManaged):\n",
    "    def onStart(self):\n",
    "        #add forms to the application\n",
    "        self.addForm('MAIN', FirstForm, name=\"main\")\n",
    "\n",
    "class FirstForm(npyscreen.ActionFormMinimal):\n",
    "    def create(self):\n",
    "        self.add(npyscreen.TitleText, w_id=\"txt\", name= \"Hello World\" )\n",
    "    def on_ok(self):\n",
    "        self.parentApp.switchForm(None)\n",
    "      \n",
    "app = App()\n",
    "app.run()\n",
    "\n",
    "```\n",
    "You can find the [link](https://github.com/InteractiveDigitalSystems/pyTui/blob/master/text.py) on [moodle](https://moodle.ruc.dk/course/view.php?id=15901) or [github](https://github.com/InteractiveDigitalSystems/pyTui)"
   ]
  },
  {
   "cell_type": "markdown",
   "id": "bronze-beast",
   "metadata": {
    "slideshow": {
     "slide_type": "slide"
    }
   },
   "source": [
    "# Make it work!\n",
    "Let's take 15 minutes and make the previous example work\n",
    "this will make sure that your npyscreen packages works and your terminal supports npyscreen"
   ]
  },
  {
   "cell_type": "markdown",
   "id": "animal-anger",
   "metadata": {
    "slideshow": {
     "slide_type": "slide"
    }
   },
   "source": [
    "# the little details and weird tricks\n",
    "\n",
    "- An object oriented approach\n",
    "- Applications, Forms & Widgets\n",
    "- Using the [documentations](https://npyscreen.readthedocs.io/)\n",
    "    - scary at first glance?\n",
    "\n",
    "\n",
    "\n"
   ]
  },
  {
   "cell_type": "code",
   "execution_count": null,
   "id": "framed-singapore",
   "metadata": {},
   "outputs": [],
   "source": []
  }
 ],
 "metadata": {
  "celltoolbar": "Slideshow",
  "kernelspec": {
   "display_name": "Python 3",
   "language": "python",
   "name": "python3"
  },
  "language_info": {
   "codemirror_mode": {
    "name": "ipython",
    "version": 3
   },
   "file_extension": ".py",
   "mimetype": "text/x-python",
   "name": "python",
   "nbconvert_exporter": "python",
   "pygments_lexer": "ipython3",
   "version": "3.9.2"
  }
 },
 "nbformat": 4,
 "nbformat_minor": 5
}
