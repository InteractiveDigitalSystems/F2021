{
 "cells": [
  {
   "cell_type": "markdown",
   "id": "boolean-interaction",
   "metadata": {
    "slideshow": {
     "slide_type": "slide"
    }
   },
   "source": [
    "# IDS\n",
    "## Lecture 4\n",
    "\n",
    "![example1](example1.PNG)\n",
    "\n",
    "This week we will focus on how we can interact with your application. we will be using something called a \"Terminal User Interface\""
   ]
  },
  {
   "cell_type": "markdown",
   "id": "lucky-exercise",
   "metadata": {
    "slideshow": {
     "slide_type": "slide"
    }
   },
   "source": [
    "# Agenda\n",
    "- Last weeks topics REST API's\n",
    "    - How did it go?\n",
    "    - JSON\n",
    "- Terminal User Interface\n",
    "    - What is it and how do we program it\n",
    "    - use it to send udp commands\n",
    "    \n",
    "    "
   ]
  },
  {
   "cell_type": "markdown",
   "id": "dimensional-edward",
   "metadata": {
    "slideshow": {
     "slide_type": "slide"
    }
   },
   "source": [
    "# JSON\n",
    "```\n",
    "{\"name\":\"John\", \"age\":31, \"city\":\"New York\"}\n",
    "\n",
    "```"
   ]
  },
  {
   "cell_type": "markdown",
   "id": "pending-resistance",
   "metadata": {
    "slideshow": {
     "slide_type": "slide"
    }
   },
   "source": [
    "# JSON arrays\n",
    "```\n",
    "{\n",
    "\"name\":\"John\",\n",
    "\"age\":30,\n",
    "\"cars\":[ \"Ford\", \"BMW\", \"Fiat\" ]\n",
    "}\n",
    "```"
   ]
  },
  {
   "cell_type": "markdown",
   "id": "loved-george",
   "metadata": {
    "slideshow": {
     "slide_type": "slide"
    }
   },
   "source": [
    "# slides available at [github](https://github.com/InteractiveDigitalSystems/F2021/blob/main/lecture_4/Untitled.ipynb)"
   ]
  },
  {
   "cell_type": "markdown",
   "id": "manual-cargo",
   "metadata": {
    "slideshow": {
     "slide_type": "slide"
    }
   },
   "source": [
    "# PIP\n",
    "## Package Installer for Python\n",
    "\n",
    "We will be using a package called npyscreen\n",
    "\n",
    "```\n",
    "pip install npyscreen\n",
    "```\n",
    "...and if you use windows\n",
    "pip install windows\n",
    "\n",
    "```\n",
    "pip install windows-curses\n",
    "```"
   ]
  },
  {
   "cell_type": "markdown",
   "id": "iraqi-consortium",
   "metadata": {
    "slideshow": {
     "slide_type": "slide"
    }
   },
   "source": [
    "# A Quick test run.....\n",
    "```\n",
    "import npyscreen\n",
    "\n",
    "class App(npyscreen.NPSAppManaged):\n",
    "    def onStart(self):\n",
    "        self.addForm('MAIN', FirstForm, name=\"main\")\n",
    "\n",
    "class FirstForm(npyscreen.ActionFormMinimal):\n",
    "    def create(self):\n",
    "        self.add(npyscreen.TitleText, w_id=\"txt\", name= \"Hello World\" )\n",
    "    def on_ok(self):\n",
    "        self.parentApp.switchForm(None)\n",
    "      \n",
    "app = App()\n",
    "app.run()\n",
    "\n",
    "```\n",
    "You can find the [link](https://github.com/InteractiveDigitalSystems/pyTui/blob/master/text.py) on [moodle](https://moodle.ruc.dk/course/view.php?id=15901) or [github](https://github.com/InteractiveDigitalSystems/pyTui)"
   ]
  },
  {
   "cell_type": "markdown",
   "id": "august-demographic",
   "metadata": {
    "slideshow": {
     "slide_type": "slide"
    }
   },
   "source": [
    "# Make it work!\n",
    "Let's take 15 minutes and make the previous example work\n",
    "this will make sure that your npyscreen packages works and your terminal supports npyscreen\n",
    "\n",
    "It will work "
   ]
  },
  {
   "cell_type": "markdown",
   "id": "ordinary-lindsay",
   "metadata": {
    "slideshow": {
     "slide_type": "slide"
    }
   },
   "source": [
    "# The little details and weird tricks\n",
    "\n",
    "- An object oriented approach\n",
    "- Applications, Forms & Widgets\n",
    "- Using the [documentations](https://npyscreen.readthedocs.io/)\n",
    "    - scary at first glance?\n",
    "\n",
    "\n",
    "\n"
   ]
  },
  {
   "cell_type": "markdown",
   "id": "piano-truck",
   "metadata": {
    "slideshow": {
     "slide_type": "slide"
    }
   },
   "source": [
    "# Coffee break and try my code\n",
    "\n",
    "* Run thethe example from this github repository: [https://github.com/InteractiveDigitalSystems/pyTui](https://github.com/InteractiveDigitalSystems/pyTui) and play around with it\n",
    "\n",
    "* [Read the docs :-)](https://npyscreen.readthedocs.io/)\n",
    "\n",
    "* when you get an overview try to combine the examples into somehting new\n",
    "\n"
   ]
  },
  {
   "cell_type": "markdown",
   "id": "logical-karma",
   "metadata": {
    "slideshow": {
     "slide_type": "slide"
    }
   },
   "source": [
    "# Show Time\n",
    "* Show the class your results!"
   ]
  },
  {
   "cell_type": "markdown",
   "id": "authorized-letter",
   "metadata": {
    "slideshow": {
     "slide_type": "slide"
    }
   },
   "source": [
    "# Larger exercise in Break Out rooms\n",
    "\n",
    "* Create a TUI application that can send aJSON object to PacketSender\n",
    "    * Application must have input fields for name, email and phonenumber and a button\n",
    "    * When button is clicked the application send a json objects containing the information above to packetsender\n",
    "    \n",
    "* Create a TUI application that can receive a JSON object from a weather API\n",
    "    * Find a Weather API and access the information\n",
    "    * Present the weather in a npyscreen application.\n",
    "    * add [ascii art](https://www.asciiart.eu/)?\n",
    "    \n",
    "\n"
   ]
  },
  {
   "cell_type": "code",
   "execution_count": null,
   "id": "visible-sculpture",
   "metadata": {},
   "outputs": [],
   "source": []
  }
 ],
 "metadata": {
  "celltoolbar": "Slideshow",
  "kernelspec": {
   "display_name": "Python 3",
   "language": "python",
   "name": "python3"
  },
  "language_info": {
   "codemirror_mode": {
    "name": "ipython",
    "version": 3
   },
   "file_extension": ".py",
   "mimetype": "text/x-python",
   "name": "python",
   "nbconvert_exporter": "python",
   "pygments_lexer": "ipython3",
   "version": "3.9.2"
  }
 },
 "nbformat": 4,
 "nbformat_minor": 5
}
